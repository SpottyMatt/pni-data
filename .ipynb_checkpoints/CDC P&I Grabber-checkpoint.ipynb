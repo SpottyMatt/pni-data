{
 "cells": [
  {
   "cell_type": "code",
   "execution_count": 1,
   "metadata": {},
   "outputs": [],
   "source": [
    "%matplotlib inline\n",
    "\n",
    "import requests\n",
    "import os\n",
    "import glob\n",
    "import pandas as pd\n",
    "import numpy as np\n",
    "import matplotlib.pyplot as plt\n",
    "from IPython.display import clear_output\n",
    "from ipywidgets import interact, interactive, fixed, interact_manual\n",
    "import ipywidgets as widgets\n",
    "from time import sleep\n",
    "import seaborn as sns\n",
    "sns.set()"
   ]
  },
  {
   "cell_type": "code",
   "execution_count": 2,
   "metadata": {},
   "outputs": [],
   "source": [
    "data_path = r'./data/cdcpniweekly/'\n",
    "if not os.path.exists(data_path):\n",
    "    os.makedirs(data_path)"
   ]
  },
  {
   "cell_type": "code",
   "execution_count": 3,
   "metadata": {},
   "outputs": [],
   "source": [
    "years = range(2009, 2021)\n",
    "weeks = range(1, 54)\n",
    "# years = [2019]\n",
    "# weeks = [12]"
   ]
  },
  {
   "cell_type": "markdown",
   "metadata": {},
   "source": [
    "# Uncomment this code to pull the data down to your local machine.Please don't repeatedly pull down the data as it's hard on the CDC's servers. I have included the result of running this code in the repo. So unless you want to grab more recent snapshots down the road there's no point in running it."
   ]
  },
  {
   "cell_type": "code",
   "execution_count": 4,
   "metadata": {},
   "outputs": [],
   "source": [
    "## CDC DATA Format\n",
    "## https://www.cdc.gov/flu/weekly/weeklyarchives2017-2018/data/nchsdata42.csv\n",
    "# for year in years:\n",
    "#     for week in weeks:\n",
    "#         if (year == 2009 and week < 40) or (year == 2020 and week > 13):\n",
    "#             next\n",
    "#         else: \n",
    "#             request_url = ('https://www.cdc.gov/flu/weekly/weeklyarchives' +\n",
    "#                            str(year - 1) + '-' + str(year) +\n",
    "#                            '/data/nchsdata' + str(week).zfill(2) + '.csv')\n",
    "#             print(request_url)\n",
    "#             request = requests.get(request_url)\n",
    "#             isStatusOK = request.status_code == requests.codes.ok\n",
    "#             if isStatusOK:\n",
    "#                 decoded_content = request.content.decode('utf-8')\n",
    "#                 with open('./data/cdcpniweekly/' + str(year) + '-' + str(week).zfill(2) + '.csv', 'w') as my_data_file:\n",
    "#                     print('isOK')\n",
    "#                     my_data_file.write(decoded_content)"
   ]
  },
  {
   "cell_type": "code",
   "execution_count": 5,
   "metadata": {},
   "outputs": [],
   "source": [
    "weekly_reports = []\n",
    "path = data_path # use your path\n",
    "all_files = glob.glob(path + \"/*.csv\")\n",
    "for filename in all_files:\n",
    "#     print(filename)\n",
    "    if 'combined' not in filename:\n",
    "        year = filename[20:24]\n",
    "        month = filename[25:27]\n",
    "        df = pd.read_csv(filename, index_col=None, header=0)\n",
    "        df['snapshotYear'] = year\n",
    "        df['snapshotWeek'] = month\n",
    "        df['snapshot'] = year + month\n",
    "        weekly_reports.append(df)\n",
    "combined_data = pd.concat(weekly_reports, ignore_index=True)"
   ]
  },
  {
   "cell_type": "code",
   "execution_count": 6,
   "metadata": {},
   "outputs": [],
   "source": [
    "combined_data.to_csv(data_path + 'combined.csv')"
   ]
  },
  {
   "cell_type": "code",
   "execution_count": 7,
   "metadata": {},
   "outputs": [
    {
     "data": {
      "text/plain": [
       "array(['201601', '201604', '201605', '201606', '201607', '201608',\n",
       "       '201609', '201610', '201611', '201612', '201613', '201614',\n",
       "       '201615', '201616', '201617', '201618', '201619', '201620',\n",
       "       '201621', '201622', '201623', '201624', '201625', '201626',\n",
       "       '201627', '201628', '201629', '201630', '201631', '201632',\n",
       "       '201633', '201634', '201635', '201636', '201637', '201638',\n",
       "       '201639', '201640', '201641', '201642', '201643', '201644',\n",
       "       '201645', '201646', '201647', '201648', '201649', '201650',\n",
       "       '201651', '201652', '201701', '201702', '201703', '201704',\n",
       "       '201705', '201706', '201707', '201708', '201709', '201710',\n",
       "       '201711', '201712', '201713', '201714', '201715', '201716',\n",
       "       '201717', '201718', '201719', '201720', '201721', '201722',\n",
       "       '201723', '201724', '201725', '201726', '201727', '201728',\n",
       "       '201729', '201730', '201731', '201732', '201733', '201734',\n",
       "       '201735', '201736', '201737', '201738', '201739', '201740',\n",
       "       '201741', '201742', '201743', '201744', '201745', '201746',\n",
       "       '201747', '201748', '201749', '201750', '201751', '201752',\n",
       "       '201801', '201802', '201803', '201804', '201805', '201806',\n",
       "       '201807', '201808', '201809', '201810', '201811', '201812',\n",
       "       '201813', '201814', '201815', '201816', '201817', '201818',\n",
       "       '201819', '201820', '201821', '201822', '201823', '201824',\n",
       "       '201825', '201826', '201827', '201828', '201829', '201830',\n",
       "       '201831', '201832', '201833', '201834', '201836', '201837',\n",
       "       '201838', '201839', '201840', '201841', '201842', '201843',\n",
       "       '201844', '201845', '201846', '201847', '201848', '201849',\n",
       "       '201850', '201851', '201852', '201901', '201902', '201903',\n",
       "       '201904', '201905', '201906', '201907', '201908', '201909',\n",
       "       '201910', '201911', '201912', '201913', '201914', '201915',\n",
       "       '201916', '201917', '201918', '201919', '201920', '201921',\n",
       "       '201922', '201923', '201924', '201925', '201926', '201927',\n",
       "       '201928', '201929', '201930', '201931', '201932', '201933',\n",
       "       '201934', '201935', '201936', '201937', '201938', '201939',\n",
       "       '201940', '201941', '201942', '201943', '201944', '201945',\n",
       "       '201946', '201947', '201948', '201949', '201950', '201951',\n",
       "       '201952', '202001', '202002', '202003', '202004', '202005',\n",
       "       '202006', '202007', '202008', '202009', '202010', '202011',\n",
       "       '202012', '202013'], dtype=object)"
      ]
     },
     "execution_count": 7,
     "metadata": {},
     "output_type": "execute_result"
    }
   ],
   "source": [
    "combined_data['snapshot'].unique()"
   ]
  },
  {
   "cell_type": "code",
   "execution_count": 8,
   "metadata": {},
   "outputs": [
    {
     "data": {
      "text/html": [
       "<div>\n",
       "<style scoped>\n",
       "    .dataframe tbody tr th:only-of-type {\n",
       "        vertical-align: middle;\n",
       "    }\n",
       "\n",
       "    .dataframe tbody tr th {\n",
       "        vertical-align: top;\n",
       "    }\n",
       "\n",
       "    .dataframe thead th {\n",
       "        text-align: right;\n",
       "    }\n",
       "</style>\n",
       "<table border=\"1\" class=\"dataframe\">\n",
       "  <thead>\n",
       "    <tr style=\"text-align: right;\">\n",
       "      <th></th>\n",
       "      <th>Year</th>\n",
       "      <th>Week</th>\n",
       "      <th>Percent of Deaths Due to Pneumonia and Influenza</th>\n",
       "      <th>Expected</th>\n",
       "      <th>Threshold</th>\n",
       "      <th>All Deaths</th>\n",
       "      <th>Pneumonia Deaths</th>\n",
       "      <th>Influenza Deaths</th>\n",
       "      <th>snapshotYear</th>\n",
       "      <th>snapshotWeek</th>\n",
       "      <th>snapshot</th>\n",
       "    </tr>\n",
       "  </thead>\n",
       "  <tbody>\n",
       "    <tr>\n",
       "      <th>272</th>\n",
       "      <td>2010</td>\n",
       "      <td>41</td>\n",
       "      <td>7.450072</td>\n",
       "      <td>7.25991</td>\n",
       "      <td>7.60749</td>\n",
       "      <td>46617</td>\n",
       "      <td>3466</td>\n",
       "      <td>7</td>\n",
       "      <td>2016</td>\n",
       "      <td>04</td>\n",
       "      <td>201604</td>\n",
       "    </tr>\n",
       "    <tr>\n",
       "      <th>273</th>\n",
       "      <td>2010</td>\n",
       "      <td>42</td>\n",
       "      <td>7.286496</td>\n",
       "      <td>7.35655</td>\n",
       "      <td>7.70391</td>\n",
       "      <td>47142</td>\n",
       "      <td>3432</td>\n",
       "      <td>3</td>\n",
       "      <td>2016</td>\n",
       "      <td>04</td>\n",
       "      <td>201604</td>\n",
       "    </tr>\n",
       "    <tr>\n",
       "      <th>274</th>\n",
       "      <td>2010</td>\n",
       "      <td>43</td>\n",
       "      <td>7.524668</td>\n",
       "      <td>7.45967</td>\n",
       "      <td>7.80682</td>\n",
       "      <td>46620</td>\n",
       "      <td>3503</td>\n",
       "      <td>5</td>\n",
       "      <td>2016</td>\n",
       "      <td>04</td>\n",
       "      <td>201604</td>\n",
       "    </tr>\n",
       "  </tbody>\n",
       "</table>\n",
       "</div>"
      ],
      "text/plain": [
       "     Year  Week  Percent of Deaths Due to Pneumonia and Influenza  Expected  \\\n",
       "272  2010    41                                          7.450072   7.25991   \n",
       "273  2010    42                                          7.286496   7.35655   \n",
       "274  2010    43                                          7.524668   7.45967   \n",
       "\n",
       "     Threshold  All Deaths  Pneumonia Deaths  Influenza Deaths snapshotYear  \\\n",
       "272    7.60749       46617              3466                 7         2016   \n",
       "273    7.70391       47142              3432                 3         2016   \n",
       "274    7.80682       46620              3503                 5         2016   \n",
       "\n",
       "    snapshotWeek snapshot  \n",
       "272           04   201604  \n",
       "273           04   201604  \n",
       "274           04   201604  "
      ]
     },
     "execution_count": 8,
     "metadata": {},
     "output_type": "execute_result"
    }
   ],
   "source": [
    "snapshot_id = '201604'\n",
    "data = combined_data.query('snapshot == @snapshot_id')\n",
    "data.head(3)"
   ]
  },
  {
   "cell_type": "code",
   "execution_count": 9,
   "metadata": {},
   "outputs": [
    {
     "data": {
      "text/plain": [
       "array(['201601', '201604', '201605', '201606', '201607', '201608',\n",
       "       '201609', '201610', '201611', '201612', '201613', '201614',\n",
       "       '201615', '201616', '201617', '201618', '201619', '201620',\n",
       "       '201621', '201622', '201623', '201624', '201625', '201626',\n",
       "       '201627', '201628', '201629', '201630', '201631', '201632',\n",
       "       '201633', '201634', '201635', '201636', '201637', '201638',\n",
       "       '201639', '201640', '201641', '201642', '201643', '201644',\n",
       "       '201645', '201646', '201647', '201648', '201649', '201650',\n",
       "       '201651', '201652', '201701', '201702', '201703', '201704',\n",
       "       '201705', '201706', '201707', '201708', '201709', '201710',\n",
       "       '201711', '201712', '201713', '201714', '201715', '201716',\n",
       "       '201717', '201718', '201719', '201720', '201721', '201722',\n",
       "       '201723', '201724', '201725', '201726', '201727', '201728',\n",
       "       '201729', '201730', '201731', '201732', '201733', '201734',\n",
       "       '201735', '201736', '201737', '201738', '201739', '201740',\n",
       "       '201741', '201742', '201743', '201744', '201745', '201746',\n",
       "       '201747', '201748', '201749', '201750', '201751', '201752',\n",
       "       '201801', '201802', '201803', '201804', '201805', '201806',\n",
       "       '201807', '201808', '201809', '201810', '201811', '201812',\n",
       "       '201813', '201814', '201815', '201816', '201817', '201818',\n",
       "       '201819', '201820', '201821', '201822', '201823', '201824',\n",
       "       '201825', '201826', '201827', '201828', '201829', '201830',\n",
       "       '201831', '201832', '201833', '201834', '201836', '201837',\n",
       "       '201838', '201839', '201840', '201841', '201842', '201843',\n",
       "       '201844', '201845', '201846', '201847', '201848', '201849',\n",
       "       '201850', '201851', '201852', '201901', '201902', '201903',\n",
       "       '201904', '201905', '201906', '201907', '201908', '201909',\n",
       "       '201910', '201911', '201912', '201913', '201914', '201915',\n",
       "       '201916', '201917', '201918', '201919', '201920', '201921',\n",
       "       '201922', '201923', '201924', '201925', '201926', '201927',\n",
       "       '201928', '201929', '201930', '201931', '201932', '201933',\n",
       "       '201934', '201935', '201936', '201937', '201938', '201939',\n",
       "       '201940', '201941', '201942', '201943', '201944', '201945',\n",
       "       '201946', '201947', '201948', '201949', '201950', '201951',\n",
       "       '201952', '202001', '202002', '202003', '202004', '202005',\n",
       "       '202006', '202007', '202008', '202009', '202010', '202011',\n",
       "       '202012', '202013'], dtype=object)"
      ]
     },
     "execution_count": 9,
     "metadata": {},
     "output_type": "execute_result"
    }
   ],
   "source": [
    "combined_data['snapshot'].unique()"
   ]
  },
  {
   "cell_type": "code",
   "execution_count": 10,
   "metadata": {},
   "outputs": [],
   "source": [
    "# for snapshot in combined_data['snapshot'].unique()[:10]:\n",
    "#     data = combined_data.query('snapshot == @snapshot')\n",
    "#     data.pivot_table(values='Pneumonia Deaths', columns='Year', index='Week').plot(xlim=(1, 53),\n",
    "#                                                                                    ylim=(0,7000))\n",
    "#     clear_output(wait=False)"
   ]
  },
  {
   "cell_type": "code",
   "execution_count": 11,
   "metadata": {},
   "outputs": [],
   "source": [
    "snapshot_ids = list(combined_data['snapshot'].unique())\n",
    "snaptshot_ids = snapshot_ids.sort()"
   ]
  },
  {
   "cell_type": "code",
   "execution_count": 12,
   "metadata": {},
   "outputs": [],
   "source": [
    "snapshots = {}\n",
    "for snapshot in snapshot_ids:\n",
    "    snapshots[snapshot] = combined_data.query('snapshot == @snapshot').pivot_table(\n",
    "        values='All Deaths',\n",
    "        columns='Year',\n",
    "        index='Week')"
   ]
  },
  {
   "cell_type": "code",
   "execution_count": 13,
   "metadata": {},
   "outputs": [
    {
     "data": {
      "text/plain": [
       "['', '', '', '', '', '', '', '', '', '', '', '']"
      ]
     },
     "execution_count": 13,
     "metadata": {},
     "output_type": "execute_result"
    }
   ],
   "source": [
    "[\"\"]*12"
   ]
  },
  {
   "cell_type": "code",
   "execution_count": 14,
   "metadata": {},
   "outputs": [
    {
     "data": {
      "application/vnd.jupyter.widget-view+json": {
       "model_id": "fe42e0309727429793c346288aa9eb5d",
       "version_major": 2,
       "version_minor": 0
      },
      "text/plain": [
       "interactive(children=(Dropdown(description='x', options=('201601', '201604', '201605', '201606', '201607', '20…"
      ]
     },
     "metadata": {},
     "output_type": "display_data"
    },
    {
     "data": {
      "text/plain": [
       "<function __main__.plot_data(x)>"
      ]
     },
     "execution_count": 14,
     "metadata": {},
     "output_type": "execute_result"
    }
   ],
   "source": [
    "# CDC DATA Format\n",
    "dash_styles = [\"\"]*15\n",
    "\n",
    "colors = sns.color_palette(\"husl\", 12)\n",
    "\n",
    "pallete = {\n",
    "    2009: colors[0],\n",
    "    2010: colors[1],\n",
    "    2011: colors[2],\n",
    "    2012: colors[3],\n",
    "    2013: colors[4],\n",
    "    2014: colors[5],\n",
    "    2015: colors[6],\n",
    "    2016: colors[7],\n",
    "    2017: colors[8],\n",
    "    2018: colors[9],\n",
    "    2019: colors[10],\n",
    "    2020: colors[11],\n",
    "}\n",
    "\n",
    "sns.set_style(\"dark\")\n",
    "sns.set_context(\"notebook\", font_scale=2.5, rc={\"lines.linewidth\": 5})\n",
    "def plot_data(x):\n",
    "    plt = sns.relplot(kind=\"line\",\n",
    "                      data=snapshots[x],\n",
    "                      dashes=dash_styles,\n",
    "                      height=9,\n",
    "                      aspect=1.5,\n",
    "                      hue=\"Year\",\n",
    "                      palette=pallete)\n",
    "    plt.set(ylim=(0,70000))\n",
    "    plt.set(xlim=(0,53))\n",
    "    plt.set(title=\"All Deaths as of \" + x[:4] + ' week ' + x[-2:])\n",
    "    plt.set(xlabel='Week of Year', ylabel='Death Count')\n",
    "\n",
    "w = widgets.Dropdown(options=snapshot_ids, value=snapshot_ids[0])\n",
    "interact(plot_data, x=w)"
   ]
  },
  {
   "cell_type": "code",
   "execution_count": 15,
   "metadata": {},
   "outputs": [],
   "source": [
    "for value in snapshot_ids:\n",
    "    w.value = value"
   ]
  },
  {
   "cell_type": "code",
   "execution_count": null,
   "metadata": {},
   "outputs": [],
   "source": []
  }
 ],
 "metadata": {
  "kernelspec": {
   "display_name": "Python 3",
   "language": "python",
   "name": "python3"
  },
  "language_info": {
   "codemirror_mode": {
    "name": "ipython",
    "version": 3
   },
   "file_extension": ".py",
   "mimetype": "text/x-python",
   "name": "python",
   "nbconvert_exporter": "python",
   "pygments_lexer": "ipython3",
   "version": "3.6.6"
  }
 },
 "nbformat": 4,
 "nbformat_minor": 2
}
