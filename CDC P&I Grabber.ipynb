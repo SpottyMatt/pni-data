{
 "cells": [
  {
   "cell_type": "code",
   "execution_count": null,
   "metadata": {},
   "outputs": [],
   "source": [
    "%matplotlib inline\n",
    "\n",
    "import requests\n",
    "import os\n",
    "import glob\n",
    "import pandas as pd\n",
    "import numpy as np\n",
    "import matplotlib.pyplot as plt\n",
    "from IPython.display import clear_output\n",
    "from ipywidgets import interact, interactive, fixed, interact_manual\n",
    "import ipywidgets as widgets\n",
    "from time import sleep\n",
    "import seaborn as sns\n",
    "sns.set()"
   ]
  },
  {
   "cell_type": "code",
   "execution_count": null,
   "metadata": {},
   "outputs": [],
   "source": [
    "data_path = r'./data/cdcpniweekly/'\n",
    "if not os.path.exists(data_path):\n",
    "    os.makedirs(data_path)"
   ]
  },
  {
   "cell_type": "markdown",
   "metadata": {},
   "source": [
    "Uncomment this code to pull the data down to your local machine.\n",
    "\n",
    "# Please don't repeatedly pull down the data as it creates unnecessary work for the CDC's servers. I have included the result of running this code in the repo. So unless you want to grab more recent snapshots down the road there's no point in running it."
   ]
  },
  {
   "cell_type": "code",
   "execution_count": null,
   "metadata": {},
   "outputs": [],
   "source": [
    "years = range(2009, 2021)\n",
    "weeks = range(1, 54)"
   ]
  },
  {
   "cell_type": "code",
   "execution_count": null,
   "metadata": {},
   "outputs": [],
   "source": [
    "## CDC DATA Format\n",
    "## https://www.cdc.gov/flu/weekly/weeklyarchives2017-2018/data/nchsdata42.csv\n",
    "# for year in years:\n",
    "#     for week in weeks:\n",
    "#         if (year == 2009 and week < 40) or (year == 2020 and week > 13):\n",
    "#             next\n",
    "#         else: \n",
    "#             request_url = ('https://www.cdc.gov/flu/weekly/weeklyarchives' +\n",
    "#                            str(year - 1) + '-' + str(year) +\n",
    "#                            '/data/nchsdata' + str(week).zfill(2) + '.csv')\n",
    "#             print(request_url)\n",
    "#             request = requests.get(request_url)\n",
    "#             isStatusOK = request.status_code == requests.codes.ok\n",
    "#             if isStatusOK:\n",
    "#                 decoded_content = request.content.decode('utf-8')\n",
    "#                 with open('./data/cdcpniweekly/' + str(year) + '-' + str(week).zfill(2) + '.csv', 'w') as my_data_file:\n",
    "#                     print('isOK')\n",
    "#                     my_data_file.write(decoded_content)"
   ]
  },
  {
   "cell_type": "code",
   "execution_count": null,
   "metadata": {},
   "outputs": [],
   "source": [
    "weekly_reports = []\n",
    "path = data_path # use your path\n",
    "all_files = glob.glob(path + \"/*.csv\")\n",
    "for filename in all_files:\n",
    "#     print(filename)\n",
    "    if 'combined' not in filename:\n",
    "        year = filename[20:24]\n",
    "        month = filename[25:27]\n",
    "        df = pd.read_csv(filename, index_col=None, header=0)\n",
    "        df['snapshotYear'] = year\n",
    "        df['snapshotWeek'] = month\n",
    "        df['snapshot'] = year + month\n",
    "        weekly_reports.append(df)\n",
    "combined_data = pd.concat(weekly_reports, ignore_index=True)"
   ]
  },
  {
   "cell_type": "code",
   "execution_count": null,
   "metadata": {},
   "outputs": [],
   "source": [
    "combined_data.to_csv(data_path + 'combined.csv')"
   ]
  },
  {
   "cell_type": "code",
   "execution_count": null,
   "metadata": {},
   "outputs": [],
   "source": [
    "combined_data['snapshot'].unique()"
   ]
  },
  {
   "cell_type": "code",
   "execution_count": null,
   "metadata": {},
   "outputs": [],
   "source": [
    "snapshot_id = '201604'\n",
    "data = combined_data.query('snapshot == @snapshot_id')\n",
    "data.head(3)"
   ]
  },
  {
   "cell_type": "code",
   "execution_count": null,
   "metadata": {},
   "outputs": [],
   "source": [
    "combined_data['snapshot'].unique()"
   ]
  },
  {
   "cell_type": "code",
   "execution_count": null,
   "metadata": {},
   "outputs": [],
   "source": [
    "snapshot_ids = list(combined_data['snapshot'].unique())\n",
    "snaptshot_ids = snapshot_ids.sort()"
   ]
  },
  {
   "cell_type": "code",
   "execution_count": null,
   "metadata": {},
   "outputs": [],
   "source": [
    "snapshots = {}\n",
    "for snapshot in snapshot_ids:\n",
    "    snapshots[snapshot] = combined_data.query('snapshot == @snapshot').pivot_table(\n",
    "        values='All Deaths',\n",
    "        columns='Year',\n",
    "        index='Week')"
   ]
  },
  {
   "cell_type": "code",
   "execution_count": null,
   "metadata": {},
   "outputs": [],
   "source": [
    "[\"\"]*12"
   ]
  },
  {
   "cell_type": "code",
   "execution_count": null,
   "metadata": {},
   "outputs": [],
   "source": [
    "# CDC DATA Format\n",
    "dash_styles = [\"\"]*15\n",
    "\n",
    "colors = sns.color_palette(\"husl\", 12)\n",
    "\n",
    "pallete = {\n",
    "    2009: colors[0],\n",
    "    2010: colors[1],\n",
    "    2011: colors[2],\n",
    "    2012: colors[3],\n",
    "    2013: colors[4],\n",
    "    2014: colors[5],\n",
    "    2015: colors[6],\n",
    "    2016: colors[7],\n",
    "    2017: colors[8],\n",
    "    2018: colors[9],\n",
    "    2019: colors[10],\n",
    "    2020: colors[11],\n",
    "}\n",
    "\n",
    "sns.set_style(\"dark\")\n",
    "sns.set_context(\"notebook\", font_scale=2.5, rc={\"lines.linewidth\": 5})\n",
    "def plot_data(x):\n",
    "    plt = sns.relplot(kind=\"line\",\n",
    "                      data=snapshots[x],\n",
    "                      dashes=dash_styles,\n",
    "                      height=9,\n",
    "                      aspect=1.5,\n",
    "                      hue=\"Year\",\n",
    "                      palette=pallete)\n",
    "    plt.set(ylim=(0,70000))\n",
    "    plt.set(xlim=(0,53))\n",
    "    plt.set(title=\"All Deaths as of \" + x[:4] + ' week ' + x[-2:])\n",
    "    plt.set(xlabel='Week of Year', ylabel='Death Count')\n",
    "\n",
    "w = widgets.Dropdown(options=snapshot_ids, value=snapshot_ids[0])\n",
    "interact(plot_data, x=w)"
   ]
  },
  {
   "cell_type": "markdown",
   "metadata": {},
   "source": [
    "This look is what creates the animation"
   ]
  },
  {
   "cell_type": "code",
   "execution_count": null,
   "metadata": {},
   "outputs": [],
   "source": [
    "for value in snapshot_ids:\n",
    "    w.value = value"
   ]
  },
  {
   "cell_type": "code",
   "execution_count": null,
   "metadata": {},
   "outputs": [],
   "source": []
  }
 ],
 "metadata": {
  "kernelspec": {
   "display_name": "Python 3",
   "language": "python",
   "name": "python3"
  },
  "language_info": {
   "codemirror_mode": {
    "name": "ipython",
    "version": 3
   },
   "file_extension": ".py",
   "mimetype": "text/x-python",
   "name": "python",
   "nbconvert_exporter": "python",
   "pygments_lexer": "ipython3",
   "version": "3.6.6"
  }
 },
 "nbformat": 4,
 "nbformat_minor": 2
}
